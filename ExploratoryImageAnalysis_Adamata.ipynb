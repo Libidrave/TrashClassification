{
  "nbformat": 4,
  "nbformat_minor": 0,
  "metadata": {
    "colab": {
      "provenance": []
    },
    "kernelspec": {
      "name": "python3",
      "display_name": "Python 3"
    },
    "language_info": {
      "name": "python"
    }
  },
  "cells": [
    {
      "cell_type": "code",
      "source": [
        "import matplotlib.pyplot as plt\n",
        "import numpy as np\n",
        "from PIL import Image\n",
        "\n",
        "import os\n",
        "from zipfile import ZipFile"
      ],
      "metadata": {
        "id": "rJ1RUejfzKSv"
      },
      "execution_count": 1,
      "outputs": []
    },
    {
      "cell_type": "code",
      "execution_count": 2,
      "metadata": {
        "colab": {
          "base_uri": "https://localhost:8080/"
        },
        "id": "4sXOf7Y0zCKz",
        "outputId": "07eb66b9-fbd4-4070-b284-af33bfae7938"
      },
      "outputs": [
        {
          "output_type": "stream",
          "name": "stdout",
          "text": [
            "Downloading...\n",
            "From (original): https://drive.google.com/uc?id=1JBN-6FYKXuKZkLAIvOLrk322E27TEP6r\n",
            "From (redirected): https://drive.google.com/uc?id=1JBN-6FYKXuKZkLAIvOLrk322E27TEP6r&confirm=t&uuid=6cf8325b-6f6c-47fc-909d-efe54039bd91\n",
            "To: /content/dataset-resized-up.zip\n",
            "100% 42.9M/42.9M [00:00<00:00, 47.7MB/s]\n"
          ]
        }
      ],
      "source": [
        "!gdown 1JBN-6FYKXuKZkLAIvOLrk322E27TEP6r\n",
        "\n",
        "with ZipFile(file=\"/content/dataset-resized-up.zip\", mode='r') as zObject:\n",
        "    zObject.extractall()"
      ]
    },
    {
      "cell_type": "code",
      "source": [
        "data_path = \"/content/dataset-resized\""
      ],
      "metadata": {
        "id": "dsrLGcC_zPIz"
      },
      "execution_count": 3,
      "outputs": []
    },
    {
      "cell_type": "code",
      "source": [
        "# Iterate through data_path folder\n",
        "items_per_subfolder = {}\n",
        "items = 0\n",
        "\n",
        "for root, folder, files in os.walk(data_path):\n",
        "    sub_folder_name = os.path.basename(root)\n",
        "    items += len(files)\n",
        "    if sub_folder_name != \"dataset-resized\":\n",
        "      items_per_subfolder[sub_folder_name] = len(files)\n",
        "\n",
        "print(items_per_subfolder)\n",
        "print(f\"total_items = {items}\")"
      ],
      "metadata": {
        "colab": {
          "base_uri": "https://localhost:8080/"
        },
        "id": "nAxy5TNczfgY",
        "outputId": "4fa517e2-da8a-437c-d848-8fb95457f643"
      },
      "execution_count": 12,
      "outputs": [
        {
          "output_type": "stream",
          "name": "stdout",
          "text": [
            "{'glass': 501, 'metal': 410, 'plastic': 482, 'cardboard': 403, 'paper': 594, 'trash': 137}\n",
            "total_items = 2527\n"
          ]
        }
      ]
    },
    {
      "cell_type": "code",
      "source": [
        "# Create lists for the classes and their respective counts\n",
        "category = list(items_per_subfolder.keys())\n",
        "counts = list(items_per_subfolder.values())\n",
        "\n",
        "# Create the bar chart\n",
        "plt.figure(figsize=(10, 6))\n",
        "plt.bar(category, counts)\n",
        "plt.xlabel('Class')\n",
        "plt.ylabel('Number of Images')\n",
        "plt.title('Distribution of Classes in the Dataset')\n",
        "plt.show()"
      ],
      "metadata": {
        "colab": {
          "base_uri": "https://localhost:8080/",
          "height": 564
        },
        "id": "r8IVMJks0LIC",
        "outputId": "828a5b94-a3cf-48f4-96d0-d3ac5f9c484a"
      },
      "execution_count": 13,
      "outputs": [
        {
          "output_type": "display_data",
          "data": {
            "text/plain": [
              "<Figure size 1000x600 with 1 Axes>"
            ],
            "image/png": "[encoded data removed]"
          },
          "metadata": {}
        }
      ]
    },
    {
      "cell_type": "markdown",
      "source": [
        "the number of total dataset is 2527, and it can be seen that ```trash``` has the smallest proportion than the others. This can cause an imbalance issues and with this small dataset it might have poor performance for Deep Learning projects.\n",
        "\n"
      ],
      "metadata": {
        "id": "2Cp4hEf50hjm"
      }
    },
    {
      "cell_type": "code",
      "source": [
        "total_width = 0\n",
        "total_height = 0\n",
        "image_count = 0\n",
        "\n",
        "for root, folder, files in os.walk(data_path):\n",
        "  for file in files:\n",
        "    image_path = os.path.join(root, file)\n",
        "    try:\n",
        "      with Image.open(image_path) as img:\n",
        "        width, height = img.size\n",
        "        total_width += width\n",
        "        total_height += height\n",
        "        image_count += 1\n",
        "    except Exception as e:\n",
        "      print(f\"Error opening image: {str(e)}\")\n",
        "\n",
        "if image_count > 0:\n",
        "  average_width = total_width / image_count\n",
        "  average_height = total_height / image_count\n",
        "  print(f\"Average image width: {average_width}\")\n",
        "  print(f\"Average image height: {average_height}\")\n",
        "else:\n",
        "  print(\"No images found\")"
      ],
      "metadata": {
        "colab": {
          "base_uri": "https://localhost:8080/"
        },
        "id": "5KKRkBNZ2eqm",
        "outputId": "3354f730-d76d-4f06-81ed-b154c6a97cd0"
      },
      "execution_count": 17,
      "outputs": [
        {
          "output_type": "stream",
          "name": "stdout",
          "text": [
            "Average image width: 512.0\n",
            "Average image height: 384.0\n"
          ]
        }
      ]
    },
    {
      "cell_type": "markdown",
      "source": [
        "all image from dataset-resized folder have a fixed size of (384,512) pixel, but in modeling process it will reduced to (224,224) pixel for faster model training and reduce resource consumption for training a larger pixel size images."
      ],
      "metadata": {
        "id": "t8dK4d2f33Y8"
      }
    },
    {
      "cell_type": "code",
      "source": [],
      "metadata": {
        "id": "Z3ANe_ta25Ub"
      },
      "execution_count": null,
      "outputs": []
    }
  ]
}